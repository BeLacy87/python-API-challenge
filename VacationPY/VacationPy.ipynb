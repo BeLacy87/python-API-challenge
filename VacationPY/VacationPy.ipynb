{
 "cells": [
  {
   "cell_type": "markdown",
   "metadata": {},
   "source": [
    "# VacationPy\n",
    "----\n",
    "\n",
    "#### Note\n",
    "* Instructions have been included for each segment. You do not have to follow them exactly, but they are included to help you think through the steps."
   ]
  },
  {
   "cell_type": "code",
   "execution_count": 1,
   "metadata": {},
   "outputs": [],
   "source": [
    "# Dependencies and Setup\n",
    "import matplotlib.pyplot as plt\n",
    "import pandas as pd\n",
    "import numpy as np\n",
    "import requests\n",
    "import gmaps\n",
    "import os\n",
    "\n",
    "\n",
    "from api_keys import g_key\n",
    "from pprint import pprint\n"
   ]
  },
  {
   "cell_type": "markdown",
   "metadata": {},
   "source": [
    "### Store Part I results into DataFrame\n",
    "* Load the csv exported in Part I to a DataFrame"
   ]
  },
  {
   "cell_type": "code",
   "execution_count": 2,
   "metadata": {},
   "outputs": [
    {
     "data": {
      "text/html": [
       "<div>\n",
       "<style scoped>\n",
       "    .dataframe tbody tr th:only-of-type {\n",
       "        vertical-align: middle;\n",
       "    }\n",
       "\n",
       "    .dataframe tbody tr th {\n",
       "        vertical-align: top;\n",
       "    }\n",
       "\n",
       "    .dataframe thead th {\n",
       "        text-align: right;\n",
       "    }\n",
       "</style>\n",
       "<table border=\"1\" class=\"dataframe\">\n",
       "  <thead>\n",
       "    <tr style=\"text-align: right;\">\n",
       "      <th></th>\n",
       "      <th>City</th>\n",
       "      <th>Cloudiness</th>\n",
       "      <th>Country</th>\n",
       "      <th>Date</th>\n",
       "      <th>Humidity</th>\n",
       "      <th>Lat</th>\n",
       "      <th>Lon</th>\n",
       "      <th>Max Temp (f)</th>\n",
       "      <th>Wind Speed (mph)</th>\n",
       "    </tr>\n",
       "  </thead>\n",
       "  <tbody>\n",
       "    <tr>\n",
       "      <th>0</th>\n",
       "      <td>cayenne</td>\n",
       "      <td>92</td>\n",
       "      <td>NaN</td>\n",
       "      <td>1583761906</td>\n",
       "      <td>73</td>\n",
       "      <td>6.42</td>\n",
       "      <td>-48.99</td>\n",
       "      <td>79.052</td>\n",
       "      <td>23.26</td>\n",
       "    </tr>\n",
       "    <tr>\n",
       "      <th>1</th>\n",
       "      <td>ushuaia</td>\n",
       "      <td>100</td>\n",
       "      <td>NaN</td>\n",
       "      <td>1583761906</td>\n",
       "      <td>96</td>\n",
       "      <td>-84.57</td>\n",
       "      <td>-40.33</td>\n",
       "      <td>-17.428</td>\n",
       "      <td>11.63</td>\n",
       "    </tr>\n",
       "    <tr>\n",
       "      <th>2</th>\n",
       "      <td>port alfred</td>\n",
       "      <td>100</td>\n",
       "      <td>NaN</td>\n",
       "      <td>1583761906</td>\n",
       "      <td>95</td>\n",
       "      <td>-87.25</td>\n",
       "      <td>40.27</td>\n",
       "      <td>-44.788</td>\n",
       "      <td>13.89</td>\n",
       "    </tr>\n",
       "    <tr>\n",
       "      <th>3</th>\n",
       "      <td>jamestown</td>\n",
       "      <td>75</td>\n",
       "      <td>US</td>\n",
       "      <td>1583761906</td>\n",
       "      <td>85</td>\n",
       "      <td>46.61</td>\n",
       "      <td>-99.28</td>\n",
       "      <td>12.200</td>\n",
       "      <td>10.29</td>\n",
       "    </tr>\n",
       "    <tr>\n",
       "      <th>4</th>\n",
       "      <td>cabo san lucas</td>\n",
       "      <td>0</td>\n",
       "      <td>NaN</td>\n",
       "      <td>1583761906</td>\n",
       "      <td>79</td>\n",
       "      <td>11.28</td>\n",
       "      <td>-114.96</td>\n",
       "      <td>80.852</td>\n",
       "      <td>16.89</td>\n",
       "    </tr>\n",
       "    <tr>\n",
       "      <th>...</th>\n",
       "      <td>...</td>\n",
       "      <td>...</td>\n",
       "      <td>...</td>\n",
       "      <td>...</td>\n",
       "      <td>...</td>\n",
       "      <td>...</td>\n",
       "      <td>...</td>\n",
       "      <td>...</td>\n",
       "      <td>...</td>\n",
       "    </tr>\n",
       "    <tr>\n",
       "      <th>611</th>\n",
       "      <td>brae</td>\n",
       "      <td>98</td>\n",
       "      <td>NaN</td>\n",
       "      <td>1583761960</td>\n",
       "      <td>90</td>\n",
       "      <td>68.36</td>\n",
       "      <td>125.98</td>\n",
       "      <td>-22.648</td>\n",
       "      <td>3.80</td>\n",
       "    </tr>\n",
       "    <tr>\n",
       "      <th>612</th>\n",
       "      <td>sept-iles</td>\n",
       "      <td>40</td>\n",
       "      <td>NaN</td>\n",
       "      <td>1583761960</td>\n",
       "      <td>78</td>\n",
       "      <td>-16.62</td>\n",
       "      <td>-124.52</td>\n",
       "      <td>79.592</td>\n",
       "      <td>3.60</td>\n",
       "    </tr>\n",
       "    <tr>\n",
       "      <th>613</th>\n",
       "      <td>dandong</td>\n",
       "      <td>0</td>\n",
       "      <td>SA</td>\n",
       "      <td>1583761960</td>\n",
       "      <td>22</td>\n",
       "      <td>28.75</td>\n",
       "      <td>41.47</td>\n",
       "      <td>70.412</td>\n",
       "      <td>6.11</td>\n",
       "    </tr>\n",
       "    <tr>\n",
       "      <th>614</th>\n",
       "      <td>slave lake</td>\n",
       "      <td>100</td>\n",
       "      <td>NaN</td>\n",
       "      <td>1583761960</td>\n",
       "      <td>62</td>\n",
       "      <td>53.85</td>\n",
       "      <td>-178.36</td>\n",
       "      <td>31.712</td>\n",
       "      <td>19.15</td>\n",
       "    </tr>\n",
       "    <tr>\n",
       "      <th>615</th>\n",
       "      <td>kieta</td>\n",
       "      <td>25</td>\n",
       "      <td>NaN</td>\n",
       "      <td>1583761960</td>\n",
       "      <td>69</td>\n",
       "      <td>76.35</td>\n",
       "      <td>-29.99</td>\n",
       "      <td>-24.628</td>\n",
       "      <td>19.55</td>\n",
       "    </tr>\n",
       "  </tbody>\n",
       "</table>\n",
       "<p>616 rows × 9 columns</p>\n",
       "</div>"
      ],
      "text/plain": [
       "               City  Cloudiness Country        Date  Humidity    Lat     Lon  \\\n",
       "0           cayenne          92     NaN  1583761906        73   6.42  -48.99   \n",
       "1           ushuaia         100     NaN  1583761906        96 -84.57  -40.33   \n",
       "2       port alfred         100     NaN  1583761906        95 -87.25   40.27   \n",
       "3         jamestown          75      US  1583761906        85  46.61  -99.28   \n",
       "4    cabo san lucas           0     NaN  1583761906        79  11.28 -114.96   \n",
       "..              ...         ...     ...         ...       ...    ...     ...   \n",
       "611            brae          98     NaN  1583761960        90  68.36  125.98   \n",
       "612       sept-iles          40     NaN  1583761960        78 -16.62 -124.52   \n",
       "613         dandong           0      SA  1583761960        22  28.75   41.47   \n",
       "614      slave lake         100     NaN  1583761960        62  53.85 -178.36   \n",
       "615           kieta          25     NaN  1583761960        69  76.35  -29.99   \n",
       "\n",
       "     Max Temp (f)  Wind Speed (mph)  \n",
       "0          79.052             23.26  \n",
       "1         -17.428             11.63  \n",
       "2         -44.788             13.89  \n",
       "3          12.200             10.29  \n",
       "4          80.852             16.89  \n",
       "..            ...               ...  \n",
       "611       -22.648              3.80  \n",
       "612        79.592              3.60  \n",
       "613        70.412              6.11  \n",
       "614        31.712             19.15  \n",
       "615       -24.628             19.55  \n",
       "\n",
       "[616 rows x 9 columns]"
      ]
     },
     "execution_count": 2,
     "metadata": {},
     "output_type": "execute_result"
    }
   ],
   "source": [
    "path=os.path.join('..','WeatherPy','city_data.csv')\n",
    "df=pd.read_csv(path)\n",
    "df1=df.drop(['Unnamed: 0'], axis=1)\n",
    "df1\n"
   ]
  },
  {
   "cell_type": "markdown",
   "metadata": {},
   "source": [
    "### Humidity Heatmap\n",
    "* Configure gmaps.\n",
    "* Use the Lat and Lng as locations and Humidity as the weight.\n",
    "* Add Heatmap layer to map."
   ]
  },
  {
   "cell_type": "code",
   "execution_count": 3,
   "metadata": {},
   "outputs": [
    {
     "data": {
      "application/vnd.jupyter.widget-view+json": {
       "model_id": "57628e304a60417888a67962ad9e83ca",
       "version_major": 2,
       "version_minor": 0
      },
      "text/plain": [
       "Figure(layout=FigureLayout(height='420px'))"
      ]
     },
     "metadata": {},
     "output_type": "display_data"
    }
   ],
   "source": [
    "locations=df1[['Lat','Lon']]\n",
    "rating=df1['Humidity']\n",
    "fig=gmaps.figure()\n",
    "heat_layer=gmaps.heatmap_layer(locations, weights=rating, dissipating=False, max_intensity=max(rating),point_radius=3)\n",
    "fig.add_layer(heat_layer)\n",
    "fig"
   ]
  },
  {
   "cell_type": "markdown",
   "metadata": {},
   "source": [
    "### Create new DataFrame fitting weather criteria\n",
    "* Narrow down the cities to fit weather conditions.\n",
    "* Drop any rows will null values."
   ]
  },
  {
   "cell_type": "code",
   "execution_count": 4,
   "metadata": {},
   "outputs": [
    {
     "data": {
      "application/vnd.jupyter.widget-view+json": {
       "model_id": "2d9ed15bf937457c8cb50f5162a813b5",
       "version_major": 2,
       "version_minor": 0
      },
      "text/plain": [
       "Figure(layout=FigureLayout(height='420px'))"
      ]
     },
     "metadata": {},
     "output_type": "display_data"
    }
   ],
   "source": [
    "df2=df1.loc[(df1['Max Temp (f)']>70)&(df1['Max Temp (f)']<80)]\n",
    "df3=df2.loc[df1['Wind Speed (mph)']<10]\n",
    "df4=df3.loc[df1['Cloudiness']==0]\n",
    "df5=df4.dropna(how='any')\n",
    "\n",
    "locations=df5[['Lat','Lon']]\n",
    "rating=df5['Humidity']\n",
    "fig=gmaps.figure()\n",
    "\n",
    "heat_layer=gmaps.heatmap_layer(locations, weights=rating, dissipating=False, max_intensity=max(rating),point_radius=3)\n",
    "fig.add_layer(heat_layer)\n",
    "fig"
   ]
  },
  {
   "cell_type": "markdown",
   "metadata": {},
   "source": [
    "### Hotel Map\n",
    "* Store into variable named `hotel_df`.\n",
    "* Add a \"Hotel Name\" column to the DataFrame.\n",
    "* Set parameters to search for hotels with 5000 meters.\n",
    "* Hit the Google Places API for each city's coordinates.\n",
    "* Store the first Hotel result into the DataFrame.\n",
    "* Plot markers on top of the heatmap."
   ]
  },
  {
   "cell_type": "code",
   "execution_count": 32,
   "metadata": {},
   "outputs": [
    {
     "name": "stderr",
     "output_type": "stream",
     "text": [
      "c:\\users\\belac\\appdata\\local\\programs\\python\\python37-32\\lib\\site-packages\\ipykernel_launcher.py:2: SettingWithCopyWarning: \n",
      "A value is trying to be set on a copy of a slice from a DataFrame.\n",
      "Try using .loc[row_indexer,col_indexer] = value instead\n",
      "\n",
      "See the caveats in the documentation: https://pandas.pydata.org/pandas-docs/stable/user_guide/indexing.html#returning-a-view-versus-a-copy\n",
      "  \n"
     ]
    },
    {
     "name": "stdout",
     "output_type": "stream",
     "text": [
      "Retrieving Results for Index 437: urumqi.\n",
      "Closest hotel is 海航产权酒店.\n",
      "------------\n",
      "Retrieving Results for Index 571: karkaralinsk.\n",
      "Closest hotel is Hôtel Les Amandiers.\n",
      "------------\n",
      "Retrieving Results for Index 613: dandong.\n",
      "Closest hotel is مزرعه كامل موسى.\n",
      "------------\n"
     ]
    }
   ],
   "source": [
    "hotel_df=df5\n",
    "hotel_df['Hotel Name']=\"\"\n",
    "hotel_df\n",
    "\n",
    "base_url = \"https://maps.googleapis.com/maps/api/place/nearbysearch/json\"\n",
    "\n",
    "# use iterrows to iterate through pandas dataframe\n",
    "for index, row in hotel_df.iterrows():\n",
    "    \n",
    "    lat = row['Lat']\n",
    "    lon=row['Lon']\n",
    "    location=lat,lon\n",
    "    city=row['City']\n",
    "    \n",
    "    params = {\"location\": f\"{lat},{lon}\",\n",
    "    \"type\": \"lodging\",\n",
    "    \"radius\": 50000,\n",
    "    \"key\": g_key}\n",
    "   \n",
    "    # assemble url and make API request\n",
    "    print(f\"Retrieving Results for Index {index}: {city}.\")\n",
    "\n",
    "    response = requests.get(base_url, params).json()\n",
    "#     pprint(response)\n",
    "    \n",
    "#     extract results\n",
    "    results = response['results']\n",
    "#     pprint(results)\n",
    "    \n",
    "    try:\n",
    "        print(f\"Closest hotel is {results[0]['name']}.\")\n",
    "        \n",
    "# #         types_df.loc[index, 'name'] = results[0]['name']\n",
    "# #         types_df.loc[index, 'address'] = results[0]['vicinity']\n",
    "# #         types_df.loc[index, 'price_level'] = results[0]['price_level']\n",
    "# #         types_df.loc[index, 'rating'] = results[0]['rating']\n",
    "        \n",
    "    except (KeyError, IndexError):\n",
    "        print(\"Missing field/result... skipping.\")\n",
    "        \n",
    "    print(\"------------\")"
   ]
  },
  {
   "cell_type": "code",
   "execution_count": null,
   "metadata": {},
   "outputs": [],
   "source": []
  },
  {
   "cell_type": "code",
   "execution_count": null,
   "metadata": {},
   "outputs": [],
   "source": [
    "\n"
   ]
  },
  {
   "cell_type": "code",
   "execution_count": null,
   "metadata": {},
   "outputs": [],
   "source": [
    "# NOTE: Do not change any of the code in this cell\n",
    "\n",
    "# Using the template add the hotel marks to the heatmap\n",
    "info_box_template = \"\"\"\n",
    "<dl>\n",
    "<dt>Name</dt><dd>{Hotel Name}</dd>\n",
    "<dt>City</dt><dd>{City}</dd>\n",
    "<dt>Country</dt><dd>{Country}</dd>\n",
    "</dl>\n",
    "\"\"\"\n",
    "# Store the DataFrame Row\n",
    "# NOTE: be sure to update with your DataFrame name\n",
    "hotel_info = [info_box_template.format(**row) for index, row in narrowed_city_df.iterrows()]\n",
    "locations = hotel_df[[\"Lat\", \"Lng\"]]"
   ]
  },
  {
   "cell_type": "code",
   "execution_count": null,
   "metadata": {},
   "outputs": [],
   "source": [
    "# Add marker layer ontop of heat map\n",
    "\n",
    "\n",
    "# Display Map"
   ]
  },
  {
   "cell_type": "code",
   "execution_count": null,
   "metadata": {},
   "outputs": [],
   "source": []
  }
 ],
 "metadata": {
  "kernelspec": {
   "display_name": "Python 3",
   "language": "python",
   "name": "python3"
  },
  "language_info": {
   "codemirror_mode": {
    "name": "ipython",
    "version": 3
   },
   "file_extension": ".py",
   "mimetype": "text/x-python",
   "name": "python",
   "nbconvert_exporter": "python",
   "pygments_lexer": "ipython3",
   "version": "3.7.2"
  },
  "latex_envs": {
   "LaTeX_envs_menu_present": true,
   "autoclose": false,
   "autocomplete": true,
   "bibliofile": "biblio.bib",
   "cite_by": "apalike",
   "current_citInitial": 1,
   "eqLabelWithNumbers": true,
   "eqNumInitial": 1,
   "hotkeys": {
    "equation": "Ctrl-E",
    "itemize": "Ctrl-I"
   },
   "labels_anchors": false,
   "latex_user_defs": false,
   "report_style_numbering": false,
   "user_envs_cfg": false
  }
 },
 "nbformat": 4,
 "nbformat_minor": 2
}
