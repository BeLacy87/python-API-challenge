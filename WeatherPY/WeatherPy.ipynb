{
 "cells": [
  {
   "cell_type": "markdown",
   "metadata": {},
   "source": [
    "# WeatherPy\n",
    "----\n",
    "\n",
    "#### Note\n",
    "* Instructions have been included for each segment. You do not have to follow them exactly, but they are included to help you think through the steps."
   ]
  },
  {
   "cell_type": "code",
   "execution_count": 1,
   "metadata": {
    "scrolled": true
   },
   "outputs": [],
   "source": [
    "# Dependencies and Setup\n",
    "import matplotlib.pyplot as plt\n",
    "import pandas as pd\n",
    "import numpy as np\n",
    "import requests\n",
    "import time\n",
    "from pprint import pprint\n",
    "from scipy.stats import linregress\n",
    "\n",
    "# Import API key\n",
    "from api_keys import weather_api_key\n",
    "\n",
    "# Incorporated citipy to determine city based on latitude and longitude\n",
    "from citipy import citipy\n",
    "\n",
    "# Output File (CSV)\n",
    "output_data_file = \"output_data/cities.csv\"\n",
    "\n",
    "# Range of latitudes and longitudes\n",
    "lat_range = (-90, 90)\n",
    "lng_range = (-180, 180)"
   ]
  },
  {
   "cell_type": "markdown",
   "metadata": {},
   "source": [
    "## Generate Cities List"
   ]
  },
  {
   "cell_type": "code",
   "execution_count": 2,
   "metadata": {},
   "outputs": [
    {
     "data": {
      "text/plain": [
       "28"
      ]
     },
     "execution_count": 2,
     "metadata": {},
     "output_type": "execute_result"
    }
   ],
   "source": [
    "# List for holding lat_lngs and cities\n",
    "lat_lngs = []\n",
    "cities = []\n",
    "\n",
    "# Create a set of random lat and lng combinations\n",
    "#RESET TO SIZE=1500 BEFORE FINAL COMMIT\n",
    "lats = np.random.uniform(low=-90.000, high=90.000, size=30)\n",
    "lngs = np.random.uniform(low=-180.000, high=180.000, size=30)\n",
    "lat_lngs = zip(lats, lngs)\n",
    "\n",
    "# Identify nearest city for each lat, lng combination\n",
    "for lat_lng in lat_lngs:\n",
    "    city = citipy.nearest_city(lat_lng[0], lat_lng[1]).city_name\n",
    "    \n",
    "    # If the city is unique, then add it to a our cities list\n",
    "    if city not in cities:\n",
    "        cities.append(city)\n",
    "\n",
    "# Print the city count to confirm sufficient count\n",
    "len(cities)"
   ]
  },
  {
   "cell_type": "markdown",
   "metadata": {},
   "source": [
    "### Perform API Calls\n",
    "* Perform a weather check on each city using a series of successive API calls.\n",
    "* Include a print log of each city as it'sbeing processed (with the city number and city name).\n"
   ]
  },
  {
   "cell_type": "code",
   "execution_count": null,
   "metadata": {},
   "outputs": [],
   "source": []
  },
  {
   "cell_type": "code",
   "execution_count": 46,
   "metadata": {},
   "outputs": [
    {
     "name": "stdout",
     "output_type": "stream",
     "text": [
      "Making request number: 0 for ID: padang\n",
      "Making request number: 1 for ID: san patricio\n",
      "Making request number: 2 for ID: port blair\n",
      "Making request number: 3 for ID: tottori\n",
      "Making request number: 4 for ID: hilo\n",
      "Making request number: 5 for ID: shihezi\n",
      "Making request number: 6 for ID: punta arenas\n",
      "Making request number: 7 for ID: albany\n",
      "Making request number: 8 for ID: esperance\n",
      "Making request number: 9 for ID: bluff\n",
      "Making request number: 10 for ID: chalmette\n",
      "Making request number: 11 for ID: vila\n",
      "Making request number: 12 for ID: ushuaia\n",
      "Making request number: 13 for ID: kirtipur\n",
      "Making request number: 14 for ID: vanimo\n",
      "Making request number: 15 for ID: resistencia\n",
      "Making request number: 16 for ID: cherskiy\n",
      "Making request number: 17 for ID: pierre\n",
      "Making request number: 18 for ID: yellowknife\n",
      "Making request number: 19 for ID: vaini\n",
      "Making request number: 20 for ID: jurado\n",
      "Making request number: 21 for ID: cuetzalan\n",
      "Making request number: 22 for ID: lorengau\n",
      "Making request number: 23 for ID: chuy\n",
      "Making request number: 24 for ID: christchurch\n",
      "Making request number: 25 for ID: nikolskoye\n",
      "Making request number: 26 for ID: cape town\n",
      "Making request number: 27 for ID: xuddur\n"
     ]
    }
   ],
   "source": [
    "url = \"http://api.openweathermap.org/data/2.5/weather?\"\n",
    "coord=[]\n",
    "clouds=[]\n",
    "# Make a request for each of the indices\n",
    "\n",
    "for x in range(len(cities)):\n",
    "    print(f\"Making request number: {x} for ID: {cities[x]}\")\n",
    "    \n",
    "\n",
    "    # Get one of the posts\n",
    "    weather_response = requests.get(url + \"q=\" + str(cities[x]) +  \"&APPID=\" + weather_api_key).json()\n",
    "    coord.append(weather_response['coord'])\n",
    "    clouds.append(weather_response['clouds']['all'])\n",
    "report_list=zip(coord,clouds)"
   ]
  },
  {
   "cell_type": "markdown",
   "metadata": {},
   "source": [
    "### Convert Raw Data to DataFrame\n",
    "* Export the city data into a .csv.\n",
    "* Display the DataFrame"
   ]
  },
  {
   "cell_type": "code",
   "execution_count": 47,
   "metadata": {},
   "outputs": [],
   "source": [
    "report=[''.join(map(str, i)) for i in zip(coord, clouds)]"
   ]
  },
  {
   "cell_type": "code",
   "execution_count": 48,
   "metadata": {},
   "outputs": [
    {
     "data": {
      "text/html": [
       "<div>\n",
       "<style scoped>\n",
       "    .dataframe tbody tr th:only-of-type {\n",
       "        vertical-align: middle;\n",
       "    }\n",
       "\n",
       "    .dataframe tbody tr th {\n",
       "        vertical-align: top;\n",
       "    }\n",
       "\n",
       "    .dataframe thead th {\n",
       "        text-align: right;\n",
       "    }\n",
       "</style>\n",
       "<table border=\"1\" class=\"dataframe\">\n",
       "  <thead>\n",
       "    <tr style=\"text-align: right;\">\n",
       "      <th></th>\n",
       "      <th>0</th>\n",
       "      <th>Cloudiness</th>\n",
       "      <th>City</th>\n",
       "    </tr>\n",
       "  </thead>\n",
       "  <tbody>\n",
       "    <tr>\n",
       "      <th>0</th>\n",
       "      <td>{'lon': 100.35, 'lat': -0.95}81</td>\n",
       "      <td>81</td>\n",
       "      <td>padang</td>\n",
       "    </tr>\n",
       "    <tr>\n",
       "      <th>1</th>\n",
       "      <td>{'lon': -104.7, 'lat': 19.22}40</td>\n",
       "      <td>40</td>\n",
       "      <td>san patricio</td>\n",
       "    </tr>\n",
       "    <tr>\n",
       "      <th>2</th>\n",
       "      <td>{'lon': 92.75, 'lat': 11.67}4</td>\n",
       "      <td>4</td>\n",
       "      <td>port blair</td>\n",
       "    </tr>\n",
       "    <tr>\n",
       "      <th>3</th>\n",
       "      <td>{'lon': 134.23, 'lat': 35.5}46</td>\n",
       "      <td>46</td>\n",
       "      <td>tottori</td>\n",
       "    </tr>\n",
       "    <tr>\n",
       "      <th>4</th>\n",
       "      <td>{'lon': -155.09, 'lat': 19.73}75</td>\n",
       "      <td>75</td>\n",
       "      <td>hilo</td>\n",
       "    </tr>\n",
       "    <tr>\n",
       "      <th>5</th>\n",
       "      <td>{'lon': 86.03, 'lat': 44.3}96</td>\n",
       "      <td>96</td>\n",
       "      <td>shihezi</td>\n",
       "    </tr>\n",
       "    <tr>\n",
       "      <th>6</th>\n",
       "      <td>{'lon': -70.92, 'lat': -53.15}75</td>\n",
       "      <td>75</td>\n",
       "      <td>punta arenas</td>\n",
       "    </tr>\n",
       "    <tr>\n",
       "      <th>7</th>\n",
       "      <td>{'lon': -73.97, 'lat': 42.6}40</td>\n",
       "      <td>40</td>\n",
       "      <td>albany</td>\n",
       "    </tr>\n",
       "    <tr>\n",
       "      <th>8</th>\n",
       "      <td>{'lon': 121.9, 'lat': -33.87}67</td>\n",
       "      <td>67</td>\n",
       "      <td>esperance</td>\n",
       "    </tr>\n",
       "    <tr>\n",
       "      <th>9</th>\n",
       "      <td>{'lon': 168.33, 'lat': -46.6}95</td>\n",
       "      <td>95</td>\n",
       "      <td>bluff</td>\n",
       "    </tr>\n",
       "    <tr>\n",
       "      <th>10</th>\n",
       "      <td>{'lon': -89.96, 'lat': 29.94}1</td>\n",
       "      <td>1</td>\n",
       "      <td>chalmette</td>\n",
       "    </tr>\n",
       "    <tr>\n",
       "      <th>11</th>\n",
       "      <td>{'lon': -8.16, 'lat': 42.03}20</td>\n",
       "      <td>20</td>\n",
       "      <td>vila</td>\n",
       "    </tr>\n",
       "    <tr>\n",
       "      <th>12</th>\n",
       "      <td>{'lon': -68.3, 'lat': -54.8}100</td>\n",
       "      <td>100</td>\n",
       "      <td>ushuaia</td>\n",
       "    </tr>\n",
       "    <tr>\n",
       "      <th>13</th>\n",
       "      <td>{'lon': 85.28, 'lat': 27.67}20</td>\n",
       "      <td>20</td>\n",
       "      <td>kirtipur</td>\n",
       "    </tr>\n",
       "    <tr>\n",
       "      <th>14</th>\n",
       "      <td>{'lon': 141.3, 'lat': -2.67}100</td>\n",
       "      <td>100</td>\n",
       "      <td>vanimo</td>\n",
       "    </tr>\n",
       "    <tr>\n",
       "      <th>15</th>\n",
       "      <td>{'lon': -58.98, 'lat': -27.46}28</td>\n",
       "      <td>28</td>\n",
       "      <td>resistencia</td>\n",
       "    </tr>\n",
       "    <tr>\n",
       "      <th>16</th>\n",
       "      <td>{'lon': 161.3, 'lat': 68.75}90</td>\n",
       "      <td>90</td>\n",
       "      <td>cherskiy</td>\n",
       "    </tr>\n",
       "    <tr>\n",
       "      <th>17</th>\n",
       "      <td>{'lon': -100.35, 'lat': 44.37}1</td>\n",
       "      <td>1</td>\n",
       "      <td>pierre</td>\n",
       "    </tr>\n",
       "    <tr>\n",
       "      <th>18</th>\n",
       "      <td>{'lon': -114.35, 'lat': 62.46}20</td>\n",
       "      <td>20</td>\n",
       "      <td>yellowknife</td>\n",
       "    </tr>\n",
       "    <tr>\n",
       "      <th>19</th>\n",
       "      <td>{'lon': -175.2, 'lat': -21.2}75</td>\n",
       "      <td>75</td>\n",
       "      <td>vaini</td>\n",
       "    </tr>\n",
       "    <tr>\n",
       "      <th>20</th>\n",
       "      <td>{'lon': -77.76, 'lat': 7.11}42</td>\n",
       "      <td>42</td>\n",
       "      <td>jurado</td>\n",
       "    </tr>\n",
       "    <tr>\n",
       "      <th>21</th>\n",
       "      <td>{'lon': -97.52, 'lat': 20.03}90</td>\n",
       "      <td>90</td>\n",
       "      <td>cuetzalan</td>\n",
       "    </tr>\n",
       "    <tr>\n",
       "      <th>22</th>\n",
       "      <td>{'lon': 147.27, 'lat': -2.02}98</td>\n",
       "      <td>98</td>\n",
       "      <td>lorengau</td>\n",
       "    </tr>\n",
       "    <tr>\n",
       "      <th>23</th>\n",
       "      <td>{'lon': -53.46, 'lat': -33.7}68</td>\n",
       "      <td>68</td>\n",
       "      <td>chuy</td>\n",
       "    </tr>\n",
       "    <tr>\n",
       "      <th>24</th>\n",
       "      <td>{'lon': 172.63, 'lat': -43.53}100</td>\n",
       "      <td>100</td>\n",
       "      <td>christchurch</td>\n",
       "    </tr>\n",
       "    <tr>\n",
       "      <th>25</th>\n",
       "      <td>{'lon': 30.79, 'lat': 59.7}75</td>\n",
       "      <td>75</td>\n",
       "      <td>nikolskoye</td>\n",
       "    </tr>\n",
       "    <tr>\n",
       "      <th>26</th>\n",
       "      <td>{'lon': 18.42, 'lat': -33.93}99</td>\n",
       "      <td>99</td>\n",
       "      <td>cape town</td>\n",
       "    </tr>\n",
       "    <tr>\n",
       "      <th>27</th>\n",
       "      <td>{'lon': 43.89, 'lat': 4.12}70</td>\n",
       "      <td>70</td>\n",
       "      <td>xuddur</td>\n",
       "    </tr>\n",
       "  </tbody>\n",
       "</table>\n",
       "</div>"
      ],
      "text/plain": [
       "                                    0  Cloudiness          City\n",
       "0     {'lon': 100.35, 'lat': -0.95}81          81        padang\n",
       "1     {'lon': -104.7, 'lat': 19.22}40          40  san patricio\n",
       "2       {'lon': 92.75, 'lat': 11.67}4           4    port blair\n",
       "3      {'lon': 134.23, 'lat': 35.5}46          46       tottori\n",
       "4    {'lon': -155.09, 'lat': 19.73}75          75          hilo\n",
       "5       {'lon': 86.03, 'lat': 44.3}96          96       shihezi\n",
       "6    {'lon': -70.92, 'lat': -53.15}75          75  punta arenas\n",
       "7      {'lon': -73.97, 'lat': 42.6}40          40        albany\n",
       "8     {'lon': 121.9, 'lat': -33.87}67          67     esperance\n",
       "9     {'lon': 168.33, 'lat': -46.6}95          95         bluff\n",
       "10     {'lon': -89.96, 'lat': 29.94}1           1     chalmette\n",
       "11     {'lon': -8.16, 'lat': 42.03}20          20          vila\n",
       "12    {'lon': -68.3, 'lat': -54.8}100         100       ushuaia\n",
       "13     {'lon': 85.28, 'lat': 27.67}20          20      kirtipur\n",
       "14    {'lon': 141.3, 'lat': -2.67}100         100        vanimo\n",
       "15   {'lon': -58.98, 'lat': -27.46}28          28   resistencia\n",
       "16     {'lon': 161.3, 'lat': 68.75}90          90      cherskiy\n",
       "17    {'lon': -100.35, 'lat': 44.37}1           1        pierre\n",
       "18   {'lon': -114.35, 'lat': 62.46}20          20   yellowknife\n",
       "19    {'lon': -175.2, 'lat': -21.2}75          75         vaini\n",
       "20     {'lon': -77.76, 'lat': 7.11}42          42        jurado\n",
       "21    {'lon': -97.52, 'lat': 20.03}90          90     cuetzalan\n",
       "22    {'lon': 147.27, 'lat': -2.02}98          98      lorengau\n",
       "23    {'lon': -53.46, 'lat': -33.7}68          68          chuy\n",
       "24  {'lon': 172.63, 'lat': -43.53}100         100  christchurch\n",
       "25      {'lon': 30.79, 'lat': 59.7}75          75    nikolskoye\n",
       "26    {'lon': 18.42, 'lat': -33.93}99          99     cape town\n",
       "27      {'lon': 43.89, 'lat': 4.12}70          70        xuddur"
      ]
     },
     "execution_count": 48,
     "metadata": {},
     "output_type": "execute_result"
    }
   ],
   "source": [
    "df1=pd.DataFrame(report)\n",
    "\n",
    "df1['Cloudiness']=clouds\n",
    "df1['City']=cities\n",
    "df1\n"
   ]
  },
  {
   "cell_type": "code",
   "execution_count": null,
   "metadata": {},
   "outputs": [],
   "source": []
  },
  {
   "cell_type": "markdown",
   "metadata": {},
   "source": [
    "### Plotting the Data\n",
    "* Use proper labeling of the plots using plot titles (including date of analysis) and axes labels.\n",
    "* Save the plotted figures as .pngs."
   ]
  },
  {
   "cell_type": "markdown",
   "metadata": {},
   "source": [
    "#### Latitude vs. Temperature Plot"
   ]
  },
  {
   "cell_type": "code",
   "execution_count": null,
   "metadata": {
    "scrolled": true
   },
   "outputs": [],
   "source": []
  },
  {
   "cell_type": "markdown",
   "metadata": {},
   "source": [
    "#### Latitude vs. Humidity Plot"
   ]
  },
  {
   "cell_type": "code",
   "execution_count": null,
   "metadata": {},
   "outputs": [],
   "source": []
  },
  {
   "cell_type": "markdown",
   "metadata": {},
   "source": [
    "#### Latitude vs. Cloudiness Plot"
   ]
  },
  {
   "cell_type": "code",
   "execution_count": null,
   "metadata": {},
   "outputs": [],
   "source": []
  },
  {
   "cell_type": "markdown",
   "metadata": {},
   "source": [
    "#### Latitude vs. Wind Speed Plot"
   ]
  },
  {
   "cell_type": "code",
   "execution_count": null,
   "metadata": {},
   "outputs": [],
   "source": []
  },
  {
   "cell_type": "markdown",
   "metadata": {},
   "source": [
    "## Linear Regression"
   ]
  },
  {
   "cell_type": "code",
   "execution_count": null,
   "metadata": {},
   "outputs": [],
   "source": [
    "# OPTIONAL: Create a function to create Linear Regression plots\n"
   ]
  },
  {
   "cell_type": "code",
   "execution_count": null,
   "metadata": {},
   "outputs": [],
   "source": [
    "# Create Northern and Southern Hemisphere DataFrames\n"
   ]
  },
  {
   "cell_type": "markdown",
   "metadata": {},
   "source": [
    "####  Northern Hemisphere - Max Temp vs. Latitude Linear Regression"
   ]
  },
  {
   "cell_type": "code",
   "execution_count": null,
   "metadata": {},
   "outputs": [],
   "source": []
  },
  {
   "cell_type": "markdown",
   "metadata": {},
   "source": [
    "####  Southern Hemisphere - Max Temp vs. Latitude Linear Regression"
   ]
  },
  {
   "cell_type": "code",
   "execution_count": null,
   "metadata": {},
   "outputs": [],
   "source": []
  },
  {
   "cell_type": "markdown",
   "metadata": {},
   "source": [
    "####  Northern Hemisphere - Humidity (%) vs. Latitude Linear Regression"
   ]
  },
  {
   "cell_type": "code",
   "execution_count": null,
   "metadata": {},
   "outputs": [],
   "source": []
  },
  {
   "cell_type": "markdown",
   "metadata": {},
   "source": [
    "####  Southern Hemisphere - Humidity (%) vs. Latitude Linear Regression"
   ]
  },
  {
   "cell_type": "code",
   "execution_count": null,
   "metadata": {},
   "outputs": [],
   "source": []
  },
  {
   "cell_type": "markdown",
   "metadata": {},
   "source": [
    "####  Northern Hemisphere - Cloudiness (%) vs. Latitude Linear Regression"
   ]
  },
  {
   "cell_type": "code",
   "execution_count": null,
   "metadata": {},
   "outputs": [],
   "source": []
  },
  {
   "cell_type": "markdown",
   "metadata": {},
   "source": [
    "####  Southern Hemisphere - Cloudiness (%) vs. Latitude Linear Regression"
   ]
  },
  {
   "cell_type": "code",
   "execution_count": null,
   "metadata": {},
   "outputs": [],
   "source": []
  },
  {
   "cell_type": "markdown",
   "metadata": {},
   "source": [
    "####  Northern Hemisphere - Wind Speed (mph) vs. Latitude Linear Regression"
   ]
  },
  {
   "cell_type": "code",
   "execution_count": null,
   "metadata": {},
   "outputs": [],
   "source": []
  },
  {
   "cell_type": "markdown",
   "metadata": {},
   "source": [
    "####  Southern Hemisphere - Wind Speed (mph) vs. Latitude Linear Regression"
   ]
  },
  {
   "cell_type": "code",
   "execution_count": null,
   "metadata": {},
   "outputs": [],
   "source": []
  },
  {
   "cell_type": "code",
   "execution_count": null,
   "metadata": {},
   "outputs": [],
   "source": []
  }
 ],
 "metadata": {
  "anaconda-cloud": {},
  "kernel_info": {
   "name": "python3"
  },
  "kernelspec": {
   "display_name": "Python 3",
   "language": "python",
   "name": "python3"
  },
  "language_info": {
   "codemirror_mode": {
    "name": "ipython",
    "version": 3
   },
   "file_extension": ".py",
   "mimetype": "text/x-python",
   "name": "python",
   "nbconvert_exporter": "python",
   "pygments_lexer": "ipython3",
   "version": "3.7.2"
  },
  "latex_envs": {
   "LaTeX_envs_menu_present": true,
   "autoclose": false,
   "autocomplete": true,
   "bibliofile": "biblio.bib",
   "cite_by": "apalike",
   "current_citInitial": 1,
   "eqLabelWithNumbers": true,
   "eqNumInitial": 1,
   "hotkeys": {
    "equation": "Ctrl-E",
    "itemize": "Ctrl-I"
   },
   "labels_anchors": false,
   "latex_user_defs": false,
   "report_style_numbering": false,
   "user_envs_cfg": false
  },
  "nteract": {
   "version": "0.12.3"
  }
 },
 "nbformat": 4,
 "nbformat_minor": 2
}
